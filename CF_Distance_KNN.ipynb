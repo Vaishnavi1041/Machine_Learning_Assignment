{
 "cells": [
  {
   "cell_type": "code",
   "execution_count": 1,
   "id": "ec17093c-6ffd-4a8b-ac16-305df5750a2b",
   "metadata": {},
   "outputs": [],
   "source": [
    "import pandas as pd\n",
    "import numpy as np\n",
    "import matplotlib.pyplot as plt "
   ]
  },
  {
   "cell_type": "code",
   "execution_count": 2,
   "id": "b7dba66e-0c2b-4c3e-99cc-e0bc155c66df",
   "metadata": {},
   "outputs": [
    {
     "name": "stdout",
     "output_type": "stream",
     "text": [
      "<class 'pandas.core.frame.DataFrame'>\n",
      "RangeIndex: 284 entries, 0 to 283\n",
      "Data columns (total 3 columns):\n",
      " #   Column     Non-Null Count  Dtype\n",
      "---  ------     --------------  -----\n",
      " 0   Age        284 non-null    int64\n",
      " 1   Salary     284 non-null    int64\n",
      " 2   Purchased  284 non-null    int64\n",
      "dtypes: int64(3)\n",
      "memory usage: 6.8 KB\n"
     ]
    }
   ],
   "source": [
    "df = pd.read_excel(\"C:/Users/vaishnavi/Desktop/DBDA/ML Practical/Day_2/Social_Network_ads.xlsx\")\n",
    "df.info()"
   ]
  },
  {
   "cell_type": "code",
   "execution_count": 9,
   "id": "45a31ca8-6976-4b03-bdb3-194b1ed2733d",
   "metadata": {},
   "outputs": [],
   "source": [
    "#To check correlation between x as Nominal and y as numeric\n",
    "#use the  ANOVA test"
   ]
  },
  {
   "cell_type": "code",
   "execution_count": 10,
   "id": "9d876e9c-2140-4b00-8a6f-454385f957d9",
   "metadata": {},
   "outputs": [],
   "source": []
  },
  {
   "cell_type": "code",
   "execution_count": 3,
   "id": "921f3525-f373-4419-aefd-af1762316015",
   "metadata": {},
   "outputs": [
    {
     "data": {
      "text/plain": [
       "(284, 2)"
      ]
     },
     "execution_count": 3,
     "metadata": {},
     "output_type": "execute_result"
    }
   ],
   "source": [
    "X = df[['Age','Salary']].values\n",
    "X.shape"
   ]
  },
  {
   "cell_type": "code",
   "execution_count": 4,
   "id": "866c47a8-5f46-4daa-af68-117afcccfc90",
   "metadata": {},
   "outputs": [
    {
     "data": {
      "text/plain": [
       "(284,)"
      ]
     },
     "execution_count": 4,
     "metadata": {},
     "output_type": "execute_result"
    }
   ],
   "source": [
    "y = df['Purchased'].values\n",
    "y.shape"
   ]
  },
  {
   "cell_type": "code",
   "execution_count": 5,
   "id": "c38bb9aa-d28f-44b8-abfe-97ccbca7a6fe",
   "metadata": {},
   "outputs": [],
   "source": [
    "from sklearn.preprocessing import StandardScaler\n",
    "#std score of sample x is calculates as:\n",
    "# z= (x-u)/s\n",
    "#u is mean, s is standard deviation"
   ]
  },
  {
   "cell_type": "code",
   "execution_count": 6,
   "id": "3de44f26-64e7-4dc2-8fa1-c46347a19e94",
   "metadata": {},
   "outputs": [],
   "source": [
    "sc = StandardScaler()\n",
    "X_sc = sc.fit_transform(X)"
   ]
  },
  {
   "cell_type": "code",
   "execution_count": 7,
   "id": "0cb5d54a-5e05-4193-99a2-c8f034ecae45",
   "metadata": {},
   "outputs": [
    {
     "data": {
      "text/plain": [
       "array([[-2.13648148, -1.50856282],\n",
       "       [-0.56456246, -1.48090064],\n",
       "       [-1.44876691, -0.8446705 ],\n",
       "       [ 0.6143768 , -1.34258974],\n",
       "       [-1.35052197, -0.45739999]])"
      ]
     },
     "execution_count": 7,
     "metadata": {},
     "output_type": "execute_result"
    }
   ],
   "source": [
    "X_sc[:5,:]"
   ]
  },
  {
   "cell_type": "code",
   "execution_count": 8,
   "id": "07baed0d-2163-4a74-9bd5-b3c9f0f8f642",
   "metadata": {},
   "outputs": [
    {
     "data": {
      "text/plain": [
       "array([[   19., 19000.]])"
      ]
     },
     "execution_count": 8,
     "metadata": {},
     "output_type": "execute_result"
    }
   ],
   "source": [
    "\n",
    "sc.inverse_transform(X_sc[0:1,:])"
   ]
  },
  {
   "cell_type": "code",
   "execution_count": 11,
   "id": "c425c1ad-da79-41c9-af9a-b6bbd30c86fe",
   "metadata": {},
   "outputs": [],
   "source": [
    "from sklearn.model_selection import train_test_split"
   ]
  },
  {
   "cell_type": "code",
   "execution_count": 12,
   "id": "59b49a18-35a3-475c-88b4-6b7eabdd429f",
   "metadata": {},
   "outputs": [
    {
     "name": "stdout",
     "output_type": "stream",
     "text": [
      "(227, 2) (57, 2) (227,) (57,)\n"
     ]
    }
   ],
   "source": [
    "\n",
    "X_train,X_test,y_train,y_test = train_test_split(X_sc,\n",
    "                                                 y,\n",
    "                                                 test_size = 0.2,\n",
    "                                                 random_state = 100)\n",
    "print(X_train.shape,X_test.shape,y_train.shape,y_test.shape)"
   ]
  },
  {
   "cell_type": "code",
   "execution_count": null,
   "id": "856a2f0b-d0bd-40a9-8f50-cf66541295c8",
   "metadata": {},
   "outputs": [],
   "source": []
  },
  {
   "cell_type": "code",
   "execution_count": 20,
   "id": "da185d0a-34ca-4967-9921-20405ca8f47e",
   "metadata": {},
   "outputs": [],
   "source": [
    "from sklearn.neighbors import KNeighborsClassifier\n"
   ]
  },
  {
   "cell_type": "code",
   "execution_count": 22,
   "id": "63e73d77-806e-4022-879b-06f123c1b141",
   "metadata": {},
   "outputs": [
    {
     "data": {
      "text/plain": [
       "15.066519173319364"
      ]
     },
     "execution_count": 22,
     "metadata": {},
     "output_type": "execute_result"
    }
   ],
   "source": [
    "#as per practitioners rule best k =square root of no of observation\n",
    "227**0.5"
   ]
  },
  {
   "cell_type": "code",
   "execution_count": 23,
   "id": "44686f11-2302-4df2-abd3-6b7a507d6940",
   "metadata": {},
   "outputs": [
    {
     "data": {
      "text/plain": [
       "0.9473684210526315"
      ]
     },
     "execution_count": 23,
     "metadata": {},
     "output_type": "execute_result"
    }
   ],
   "source": [
    " model = KNeighborsClassifier(n_neighbors = 15, p = 2, metric = 'minkowski')\n",
    "model.fit(X_train,y_train).score(X_test,y_test)"
   ]
  },
  {
   "cell_type": "code",
   "execution_count": 26,
   "id": "c1b1bb68-59a6-4682-827b-e88a3d734b69",
   "metadata": {},
   "outputs": [
    {
     "name": "stdout",
     "output_type": "stream",
     "text": [
      "(408, 424) (408, 424)\n"
     ]
    }
   ],
   "source": [
    "age = np.arange(X_test[:,0].min()-0.2,X_test[:,0].max()+0.2,0.01)\n",
    "sal = np.arange(X_test[:,1].min()-0.2,X_test[:,1].max()+0.2,0.01)\n",
    "Age , Sal  = np.meshgrid(age, sal)\n",
    "print(Age.shape, Sal.shape)"
   ]
  },
  {
   "cell_type": "code",
   "execution_count": 27,
   "id": "e26d5466-633a-4900-8634-3124b8109e6c",
   "metadata": {},
   "outputs": [],
   "source": [
    "formed_data = np.c_[Age.ravel(),Sal.ravel()]"
   ]
  },
  {
   "cell_type": "code",
   "execution_count": 28,
   "id": "c6a50ef3-2ea3-4cfb-9b5c-6776c0b3df29",
   "metadata": {},
   "outputs": [],
   "source": [
    "Z1 = model.predict(formed_data).reshape(Age.shape) "
   ]
  },
  {
   "cell_type": "code",
   "execution_count": 29,
   "id": "fcae35e6-37a7-4ee4-9595-e76529f8df6e",
   "metadata": {},
   "outputs": [
    {
     "data": {
      "text/plain": [
       "(408, 424)"
      ]
     },
     "execution_count": 29,
     "metadata": {},
     "output_type": "execute_result"
    }
   ],
   "source": [
    "Z1.shape"
   ]
  },
  {
   "cell_type": "code",
   "execution_count": 30,
   "id": "4fe1d84b-e39f-4659-8159-b5d0880f968a",
   "metadata": {},
   "outputs": [
    {
     "data": {
      "image/png": "[encoded data removed]",
      "text/plain": [
       "<Figure size 640x480 with 1 Axes>"
      ]
     },
     "metadata": {},
     "output_type": "display_data"
    }
   ],
   "source": [
    "plt.contourf(Age, Sal, Z1)\n",
    "plt.scatter(X_test[y_test==0,0],X_test[y_test==0,1],c = 'r', label =\"Not Purchased\")\n",
    "plt.scatter(X_test[y_test==1,0],X_test[y_test==1,1],c = 'Green', label =\"Purchased\")\n",
    "plt.legend(bbox_to_anchor=(1,1))\n",
    "plt.show()"
   ]
  },
  {
   "cell_type": "code",
   "execution_count": 34,
   "id": "baa8ae5a-5b5d-46ad-9899-e01864e38332",
   "metadata": {},
   "outputs": [
    {
     "data": {
      "text/plain": [
       "<function matplotlib.pyplot.show(close=None, block=None)>"
      ]
     },
     "execution_count": 34,
     "metadata": {},
     "output_type": "execute_result"
    },
    {
     "data": {
      "image/png": "[encoded data removed]",
      "text/plain": [
       "<Figure size 800x300 with 1 Axes>"
      ]
     },
     "metadata": {},
     "output_type": "display_data"
    }
   ],
   "source": [
    "acc=[]\n",
    "for K in range(5,25):\n",
    "     model = KNeighborsClassifier(n_neighbors = K, p = 2, metric = 'minkowski')\n",
    "     acc.append(model.fit(X_train,y_train).score(X_test,y_test))\n",
    "\n",
    "plt.figure(figsize=(8,3))\n",
    "plt.plot(range(5,25),acc,marker= 'o',c = 'r' ,mfc = 'b',ms = 12)\n",
    "plt.xticks(range(5,25))\n",
    "plt.xlabel(\"---------K value---------\")\n",
    "plt.ylabel(\"---------Accuracy---------\")\n",
    "plt.show"
   ]
  },
  {
   "cell_type": "code",
   "execution_count": null,
   "id": "1bc4959a-412d-464a-960d-b056de432079",
   "metadata": {},
   "outputs": [],
   "source": []
  }
 ],
 "metadata": {
  "kernelspec": {
   "display_name": "Python 3 (ipykernel)",
   "language": "python",
   "name": "python3"
  },
  "language_info": {
   "codemirror_mode": {
    "name": "ipython",
    "version": 3
   },
   "file_extension": ".py",
   "mimetype": "text/x-python",
   "name": "python",
   "nbconvert_exporter": "python",
   "pygments_lexer": "ipython3",
   "version": "3.10.9"
  }
 },
 "nbformat": 4,
 "nbformat_minor": 5
}
