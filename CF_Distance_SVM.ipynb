{
 "cells": [
  {
   "cell_type": "code",
   "execution_count": 1,
   "id": "4be9e135-dc97-4c73-a7f6-d1221fd49384",
   "metadata": {},
   "outputs": [],
   "source": [
    "#SVM"
   ]
  },
  {
   "cell_type": "code",
   "execution_count": 2,
   "id": "44442a57-fe4a-4f9e-8d7c-4b91e0810866",
   "metadata": {},
   "outputs": [],
   "source": [
    "import pandas as pd\n",
    "import numpy as np\n",
    "import matplotlib.pyplot as plt "
   ]
  },
  {
   "cell_type": "code",
   "execution_count": 3,
   "id": "6e41524d-ddc3-425a-868b-9bbd07f3792f",
   "metadata": {},
   "outputs": [
    {
     "name": "stdout",
     "output_type": "stream",
     "text": [
      "<class 'pandas.core.frame.DataFrame'>\n",
      "RangeIndex: 284 entries, 0 to 283\n",
      "Data columns (total 3 columns):\n",
      " #   Column     Non-Null Count  Dtype\n",
      "---  ------     --------------  -----\n",
      " 0   Age        284 non-null    int64\n",
      " 1   Salary     284 non-null    int64\n",
      " 2   Purchased  284 non-null    int64\n",
      "dtypes: int64(3)\n",
      "memory usage: 6.8 KB\n"
     ]
    }
   ],
   "source": [
    "df = pd.read_excel(\"C:/Users/vaishnavi/Desktop/DBDA/ML Practical/Day_2/Social_Network_ads.xlsx\")\n",
    "df.info()"
   ]
  },
  {
   "cell_type": "code",
   "execution_count": 4,
   "id": "61590929-ed37-439f-902a-6a259b9f047f",
   "metadata": {},
   "outputs": [
    {
     "data": {
      "text/plain": [
       "(284, 2)"
      ]
     },
     "execution_count": 4,
     "metadata": {},
     "output_type": "execute_result"
    }
   ],
   "source": [
    "X = df[['Age','Salary']].values\n",
    "X.shape"
   ]
  },
  {
   "cell_type": "code",
   "execution_count": 5,
   "id": "933de976-6539-4d7d-ace2-43fc170d78b1",
   "metadata": {},
   "outputs": [
    {
     "data": {
      "text/plain": [
       "(284,)"
      ]
     },
     "execution_count": 5,
     "metadata": {},
     "output_type": "execute_result"
    }
   ],
   "source": [
    "y = df['Purchased'].values\n",
    "y.shape"
   ]
  },
  {
   "cell_type": "code",
   "execution_count": 6,
   "id": "26169661-5dbb-44b7-b601-a567391998f3",
   "metadata": {},
   "outputs": [],
   "source": [
    "from sklearn.preprocessing import StandardScaler\n",
    "#std score of sample x is calculates as:\n",
    "# z= (x-u)/s\n",
    "#u is mean, s is standard deviation"
   ]
  },
  {
   "cell_type": "code",
   "execution_count": 7,
   "id": "ff14863e-6221-4239-b2e4-6070ad055779",
   "metadata": {},
   "outputs": [],
   "source": [
    "sc = StandardScaler()\n",
    "X_sc = sc.fit_transform(X)"
   ]
  },
  {
   "cell_type": "code",
   "execution_count": 8,
   "id": "455a8c9b-d7e7-49db-89dd-3afc41686d8e",
   "metadata": {},
   "outputs": [
    {
     "data": {
      "text/plain": [
       "array([[-2.13648148, -1.50856282],\n",
       "       [-0.56456246, -1.48090064],\n",
       "       [-1.44876691, -0.8446705 ],\n",
       "       [ 0.6143768 , -1.34258974],\n",
       "       [-1.35052197, -0.45739999]])"
      ]
     },
     "execution_count": 8,
     "metadata": {},
     "output_type": "execute_result"
    }
   ],
   "source": [
    "X_sc[:5,:]"
   ]
  },
  {
   "cell_type": "code",
   "execution_count": 9,
   "id": "a08097b8-5155-478e-b4fc-404976564a2b",
   "metadata": {},
   "outputs": [
    {
     "data": {
      "text/plain": [
       "array([[   19., 19000.]])"
      ]
     },
     "execution_count": 9,
     "metadata": {},
     "output_type": "execute_result"
    }
   ],
   "source": [
    "sc.inverse_transform(X_sc[0:1,:])"
   ]
  },
  {
   "cell_type": "code",
   "execution_count": 10,
   "id": "d26a3510-7938-49f1-a099-190865bf9705",
   "metadata": {},
   "outputs": [],
   "source": [
    "from sklearn.model_selection import train_test_split"
   ]
  },
  {
   "cell_type": "code",
   "execution_count": 32,
   "id": "df38338b-0e32-48f2-aa09-4fb9c5601242",
   "metadata": {},
   "outputs": [
    {
     "name": "stdout",
     "output_type": "stream",
     "text": [
      "(227, 2) (57, 2) (227,) (57,)\n"
     ]
    }
   ],
   "source": [
    "\n",
    "X_train,X_test,y_train,y_test = train_test_split(X_sc,\n",
    "                                                 y,\n",
    "                                                 test_size = 0.2,\n",
    "                                                 random_state = 100)\n",
    "print(X_train.shape,X_test.shape,y_train.shape,y_test.shape)"
   ]
  },
  {
   "cell_type": "code",
   "execution_count": 33,
   "id": "4dfd620e-f76d-457e-b857-0cfd941cc49e",
   "metadata": {},
   "outputs": [],
   "source": [
    "from sklearn.svm import SVC"
   ]
  },
  {
   "cell_type": "code",
   "execution_count": 34,
   "id": "af4e459d-f5ed-4cd9-9e10-f8652ccfbe19",
   "metadata": {},
   "outputs": [
    {
     "data": {
      "text/plain": [
       "0.9122807017543859"
      ]
     },
     "execution_count": 34,
     "metadata": {},
     "output_type": "execute_result"
    }
   ],
   "source": [
    " #  'linear', 'poly', 'rbf', 'sigmoid', 'precomputed'\n",
    "model = SVC(C=1, kernel= 'rbf')\n",
    "model.fit(X_train, y_train).score(X_test, y_test)"
   ]
  },
  {
   "cell_type": "code",
   "execution_count": 35,
   "id": "80a0bdca-0039-4a87-bde6-847194f82017",
   "metadata": {},
   "outputs": [
    {
     "name": "stdout",
     "output_type": "stream",
     "text": [
      "(408, 424) (408, 424)\n"
     ]
    }
   ],
   "source": [
    "age = np.arange(X_test[:,0].min()-0.2,X_test[:,0].max()+0.2,0.01)\n",
    "sal = np.arange(X_test[:,1].min()-0.2,X_test[:,1].max()+0.2,0.01)\n",
    "Age , Sal  = np.meshgrid(age, sal)\n",
    "print(Age.shape, Sal.shape)"
   ]
  },
  {
   "cell_type": "code",
   "execution_count": 36,
   "id": "4a9b6f0d-5e55-4ff2-833d-c89c6b2c3cd1",
   "metadata": {},
   "outputs": [
    {
     "data": {
      "text/plain": [
       "(408, 424)"
      ]
     },
     "execution_count": 36,
     "metadata": {},
     "output_type": "execute_result"
    }
   ],
   "source": [
    "formed_data = np.c_[Age.ravel(),Sal.ravel()]\n",
    "Z1 = model.predict(formed_data).reshape(Age.shape) \n",
    "Z1.shape"
   ]
  },
  {
   "cell_type": "code",
   "execution_count": 37,
   "id": "f783f5ca-ba0b-4f0c-a9b1-25b228a3f971",
   "metadata": {},
   "outputs": [
    {
     "data": {
      "image/png": "[encoded data removed]",
      "text/plain": [
       "<Figure size 640x480 with 1 Axes>"
      ]
     },
     "metadata": {},
     "output_type": "display_data"
    }
   ],
   "source": [
    "plt.contourf(Age, Sal, Z1)\n",
    "plt.scatter(X_test[y_test==0,0],X_test[y_test==0,1],c = 'r', label =\"Not Purchased\")\n",
    "plt.scatter(X_test[y_test==1,0],X_test[y_test==1,1],c = 'Green', label =\"Purchased\")\n",
    "plt.legend(bbox_to_anchor=(1,1))\n",
    "plt.show()"
   ]
  },
  {
   "cell_type": "code",
   "execution_count": null,
   "id": "64e2a133-1ec7-4570-9108-0435fa601180",
   "metadata": {},
   "outputs": [],
   "source": [
    "################"
   ]
  },
  {
   "cell_type": "code",
   "execution_count": null,
   "id": "0434352b-4ed0-4f25-a179-be2fba795fe1",
   "metadata": {},
   "outputs": [],
   "source": [
    "model = SVC(C = 1, kernel = 'rbf') #kernel = 'rbf','sigmoid'\n",
    "model.fit(X_train,y_train).score(X_test,y_test)\n",
    "\n",
    "age = np.arange(X_test[:,0].min()-0.2,X_test[:,0].max()+0.2,0.01)\n",
    "sal = np.arange(X_test[:,1].min()-0.2,X_test[:,1].max()+0.2,0.01)\n",
    "Age , Sal  = np.meshgrid(age, sal)\n",
    "print(Age.shape, Sal.shape)\n",
    "\n",
    "formed_data = np.c_[Age.ravel(),Sal.ravel()]\n",
    "Z1 = model.predict(formed_data).reshape(Age.shape) \n",
    "Z1.shape\n",
    "\n",
    "\n",
    "plt.contourf(Age, Sal, Z1)\n",
    "plt.scatter(X_test[y_test==0,0],X_test[y_test==0,1],c = 'r', label =\"Not Purchased\")\n",
    "plt.scatter(X_test[y_test==1,0],X_test[y_test==1,1],c = 'Green', label =\"Purchased\")\n",
    "plt.legend(bbox_to_anchor=(1,1))\n",
    "plt.show()"
   ]
  }
 ],
 "metadata": {
  "kernelspec": {
   "display_name": "Python 3 (ipykernel)",
   "language": "python",
   "name": "python3"
  },
  "language_info": {
   "codemirror_mode": {
    "name": "ipython",
    "version": 3
   },
   "file_extension": ".py",
   "mimetype": "text/x-python",
   "name": "python",
   "nbconvert_exporter": "python",
   "pygments_lexer": "ipython3",
   "version": "3.10.9"
  }
 },
 "nbformat": 4,
 "nbformat_minor": 5
}
