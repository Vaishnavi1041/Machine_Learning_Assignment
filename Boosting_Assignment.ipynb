{
 "cells": [
  {
   "cell_type": "code",
   "execution_count": 14,
   "id": "85b00fd8-1cf4-4f0b-9349-cc270159d942",
   "metadata": {},
   "outputs": [],
   "source": [
    "import pandas as pd\n",
    "import numpy as np\n",
    "import matplotlib.pyplot as plt "
   ]
  },
  {
   "cell_type": "code",
   "execution_count": 15,
   "id": "7a749735-1847-4470-b297-3beb934e1157",
   "metadata": {},
   "outputs": [
    {
     "name": "stdout",
     "output_type": "stream",
     "text": [
      "<class 'pandas.core.frame.DataFrame'>\n",
      "RangeIndex: 284 entries, 0 to 283\n",
      "Data columns (total 3 columns):\n",
      " #   Column     Non-Null Count  Dtype\n",
      "---  ------     --------------  -----\n",
      " 0   Age        284 non-null    int64\n",
      " 1   Salary     284 non-null    int64\n",
      " 2   Purchased  284 non-null    int64\n",
      "dtypes: int64(3)\n",
      "memory usage: 6.8 KB\n"
     ]
    }
   ],
   "source": [
    "df = pd.read_excel(\"C:/Users/vaishnavi/Desktop/DBDA/ML Practical/Day_2/Social_Network_ads.xlsx\")\n",
    "df.info()"
   ]
  },
  {
   "cell_type": "code",
   "execution_count": 16,
   "id": "751dc66c-20b2-4b5a-b233-8046bba96e27",
   "metadata": {},
   "outputs": [],
   "source": [
    "#To check correlation between x as Nominal and y as numeric\n",
    "#use the  ANOVA test\n",
    "from scipy.stats import f_oneway\n",
    "#performing the ANOVA test (analysis of variance)\n",
    "#Null hypothesis (HO) = there is no correlation between Nominal and continuous variable\n",
    "#We accept the Assumption(HO) only when P-value > 0.05 else reject"
   ]
  },
  {
   "cell_type": "code",
   "execution_count": 17,
   "id": "8bf94d67-183c-4da1-8f2a-646d1abcfaf1",
   "metadata": {},
   "outputs": [
    {
     "data": {
      "text/plain": [
       "(284,)"
      ]
     },
     "execution_count": 17,
     "metadata": {},
     "output_type": "execute_result"
    }
   ],
   "source": [
    "X = df[['Age','Salary']].values\n",
    "X.shape\n",
    "\n",
    "y = df['Purchased'].values\n",
    "y.shape"
   ]
  },
  {
   "cell_type": "code",
   "execution_count": 18,
   "id": "ddae6a03-4dfe-42fd-ae9a-bb8e64e9d111",
   "metadata": {},
   "outputs": [],
   "source": [
    "from sklearn.preprocessing import StandardScaler\n",
    "#std score of sample x is calculates as:\n",
    "# z= (x-u)/s\n",
    "#u is mean, s is standard deviation"
   ]
  },
  {
   "cell_type": "code",
   "execution_count": 19,
   "id": "c4dd9fac-b1dd-4635-aa97-e6a4d0a5a30f",
   "metadata": {},
   "outputs": [
    {
     "data": {
      "text/plain": [
       "array([[-2.13648148, -1.50856282],\n",
       "       [-0.56456246, -1.48090064],\n",
       "       [-1.44876691, -0.8446705 ],\n",
       "       [ 0.6143768 , -1.34258974],\n",
       "       [-1.35052197, -0.45739999]])"
      ]
     },
     "execution_count": 19,
     "metadata": {},
     "output_type": "execute_result"
    }
   ],
   "source": [
    "sc = StandardScaler()\n",
    "X_sc = sc.fit_transform(X)\n",
    "X_sc[:5,:]"
   ]
  },
  {
   "cell_type": "code",
   "execution_count": 20,
   "id": "bdf74cc4-8bfd-4087-a1e6-865d0766ab41",
   "metadata": {},
   "outputs": [],
   "source": [
    "from sklearn.model_selection import train_test_split"
   ]
  },
  {
   "cell_type": "code",
   "execution_count": 25,
   "id": "ad8f3c5f-cb90-454d-abd7-c723a9dc671d",
   "metadata": {},
   "outputs": [
    {
     "name": "stdout",
     "output_type": "stream",
     "text": [
      "(227, 2) (57, 2) (227,) (57,)\n"
     ]
    }
   ],
   "source": [
    "\n",
    "X_train,X_test,y_train,y_test = train_test_split(X_sc,\n",
    "                                                 y,\n",
    "                                                 test_size = 0.2,\n",
    "                                                 random_state = 100)\n",
    "print(X_train.shape,X_test.shape,y_train.shape,y_test.shape)"
   ]
  },
  {
   "cell_type": "code",
   "execution_count": 26,
   "id": "bd0ffd20-9646-486e-8a67-b162da25b171",
   "metadata": {},
   "outputs": [],
   "source": [
    "from sklearn.ensemble import AdaBoostClassifier\n",
    "from sklearn.tree import DecisionTreeClassifier\n",
    "from sklearn.naive_bayes import GaussianNB"
   ]
  },
  {
   "cell_type": "code",
   "execution_count": 38,
   "id": "cd10eb6f-1ede-4ae1-bb41-5657052bc2db",
   "metadata": {},
   "outputs": [
    {
     "name": "stderr",
     "output_type": "stream",
     "text": [
      "C:\\Users\\vaishnavi\\AppData\\Roaming\\Python\\Python310\\site-packages\\sklearn\\ensemble\\_weight_boosting.py:527: FutureWarning: The SAMME.R algorithm (the default) is deprecated and will be removed in 1.6. Use the SAMME algorithm to circumvent this warning.\n",
      "  warnings.warn(\n"
     ]
    },
    {
     "data": {
      "text/plain": [
       "0.7192982456140351"
      ]
     },
     "execution_count": 38,
     "metadata": {},
     "output_type": "execute_result"
    }
   ],
   "source": [
    "model = AdaBoostClassifier(estimator = DecisionTreeClassifier(max_depth =5),n_estimators=6)\n",
    "model.fit(X_train,y_train)\n",
    "model.score(X_test,y_test)"
   ]
  },
  {
   "cell_type": "code",
   "execution_count": 39,
   "id": "bec129b6-d4b9-4509-b77e-48cdcb7f2955",
   "metadata": {},
   "outputs": [
    {
     "name": "stderr",
     "output_type": "stream",
     "text": [
      "C:\\Users\\vaishnavi\\AppData\\Roaming\\Python\\Python310\\site-packages\\sklearn\\ensemble\\_weight_boosting.py:527: FutureWarning: The SAMME.R algorithm (the default) is deprecated and will be removed in 1.6. Use the SAMME algorithm to circumvent this warning.\n",
      "  warnings.warn(\n"
     ]
    },
    {
     "data": {
      "text/plain": [
       "0.8421052631578947"
      ]
     },
     "execution_count": 39,
     "metadata": {},
     "output_type": "execute_result"
    }
   ],
   "source": [
    "model = AdaBoostClassifier(estimator = GaussianNB(),n_estimators=10)\n",
    "model.fit(X_train,y_train)\n",
    "model.score(X_test,y_test)"
   ]
  },
  {
   "cell_type": "code",
   "execution_count": null,
   "id": "4427a793-0c34-4a82-917e-707bd099ddab",
   "metadata": {},
   "outputs": [],
   "source": []
  },
  {
   "cell_type": "code",
   "execution_count": null,
   "id": "c92ffcb9-9090-4e12-8a04-a1e503898dba",
   "metadata": {},
   "outputs": [],
   "source": []
  },
  {
   "cell_type": "code",
   "execution_count": null,
   "id": "8b0855b2-c79a-4bb1-8635-f3aab3248909",
   "metadata": {},
   "outputs": [],
   "source": []
  },
  {
   "cell_type": "code",
   "execution_count": null,
   "id": "b1fbc31d-7013-443f-950f-596c4f0d432c",
   "metadata": {},
   "outputs": [],
   "source": [
    "\n"
   ]
  },
  {
   "cell_type": "code",
   "execution_count": null,
   "id": "4bad730b-af92-40ee-b8fe-815294976b48",
   "metadata": {},
   "outputs": [],
   "source": []
  }
 ],
 "metadata": {
  "kernelspec": {
   "display_name": "Python 3 (ipykernel)",
   "language": "python",
   "name": "python3"
  },
  "language_info": {
   "codemirror_mode": {
    "name": "ipython",
    "version": 3
   },
   "file_extension": ".py",
   "mimetype": "text/x-python",
   "name": "python",
   "nbconvert_exporter": "python",
   "pygments_lexer": "ipython3",
   "version": "3.10.9"
  }
 },
 "nbformat": 4,
 "nbformat_minor": 5
}
