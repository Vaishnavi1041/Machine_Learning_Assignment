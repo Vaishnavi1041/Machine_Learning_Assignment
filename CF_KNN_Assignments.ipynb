{
 "cells": [
  {
   "cell_type": "code",
   "execution_count": 1,
   "id": "e1b7ef9b-e87c-406d-b970-c73eb848e3d9",
   "metadata": {},
   "outputs": [],
   "source": [
    "import pandas as pd\n",
    "import numpy as np\n",
    "import matplotlib.pyplot as plt "
   ]
  },
  {
   "cell_type": "code",
   "execution_count": 2,
   "id": "339b354a-e3f7-4872-9921-0785d409ca37",
   "metadata": {},
   "outputs": [
    {
     "name": "stdout",
     "output_type": "stream",
     "text": [
      "<class 'pandas.core.frame.DataFrame'>\n",
      "RangeIndex: 59 entries, 0 to 58\n",
      "Data columns (total 6 columns):\n",
      " #   Column       Non-Null Count  Dtype  \n",
      "---  ------       --------------  -----  \n",
      " 0   fruit_label  59 non-null     int64  \n",
      " 1   fruit_name   59 non-null     object \n",
      " 2   mass         59 non-null     int64  \n",
      " 3   width        59 non-null     float64\n",
      " 4   height       59 non-null     float64\n",
      " 5   color_score  59 non-null     float64\n",
      "dtypes: float64(3), int64(2), object(1)\n",
      "memory usage: 2.9+ KB\n"
     ]
    }
   ],
   "source": [
    "df = pd.read_excel(\"C:/Users/vaishnavi/Desktop/DBDA\\ML Practical/Assignments/classification/fruitdata.xlsx\")\n",
    "df.info()"
   ]
  },
  {
   "cell_type": "code",
   "execution_count": 3,
   "id": "095b6e87-70a9-4f38-9b4d-fe3a50f0580a",
   "metadata": {},
   "outputs": [
    {
     "data": {
      "text/plain": [
       "fruit_name\n",
       "apple       19\n",
       "orange      19\n",
       "lemon       16\n",
       "mandarin     5\n",
       "Name: count, dtype: int64"
      ]
     },
     "execution_count": 3,
     "metadata": {},
     "output_type": "execute_result"
    }
   ],
   "source": [
    "df[\"fruit_name\"].value_counts()"
   ]
  },
  {
   "cell_type": "code",
   "execution_count": 4,
   "id": "d266e55b-631b-447c-a6a5-dc3d5627194d",
   "metadata": {},
   "outputs": [
    {
     "data": {
      "text/html": [
       "<div>\n",
       "<style scoped>\n",
       "    .dataframe tbody tr th:only-of-type {\n",
       "        vertical-align: middle;\n",
       "    }\n",
       "\n",
       "    .dataframe tbody tr th {\n",
       "        vertical-align: top;\n",
       "    }\n",
       "\n",
       "    .dataframe thead th {\n",
       "        text-align: right;\n",
       "    }\n",
       "</style>\n",
       "<table border=\"1\" class=\"dataframe\">\n",
       "  <thead>\n",
       "    <tr style=\"text-align: right;\">\n",
       "      <th></th>\n",
       "      <th>fruit_label</th>\n",
       "      <th>mass</th>\n",
       "      <th>width</th>\n",
       "      <th>height</th>\n",
       "      <th>color_score</th>\n",
       "    </tr>\n",
       "  </thead>\n",
       "  <tbody>\n",
       "    <tr>\n",
       "      <th>fruit_label</th>\n",
       "      <td>1.000000</td>\n",
       "      <td>0.032738</td>\n",
       "      <td>-0.298090</td>\n",
       "      <td>0.508766</td>\n",
       "      <td>-0.310521</td>\n",
       "    </tr>\n",
       "    <tr>\n",
       "      <th>mass</th>\n",
       "      <td>0.032738</td>\n",
       "      <td>1.000000</td>\n",
       "      <td>0.877687</td>\n",
       "      <td>0.609571</td>\n",
       "      <td>-0.079794</td>\n",
       "    </tr>\n",
       "    <tr>\n",
       "      <th>width</th>\n",
       "      <td>-0.298090</td>\n",
       "      <td>0.877687</td>\n",
       "      <td>1.000000</td>\n",
       "      <td>0.396848</td>\n",
       "      <td>-0.076576</td>\n",
       "    </tr>\n",
       "    <tr>\n",
       "      <th>height</th>\n",
       "      <td>0.508766</td>\n",
       "      <td>0.609571</td>\n",
       "      <td>0.396848</td>\n",
       "      <td>1.000000</td>\n",
       "      <td>-0.247047</td>\n",
       "    </tr>\n",
       "    <tr>\n",
       "      <th>color_score</th>\n",
       "      <td>-0.310521</td>\n",
       "      <td>-0.079794</td>\n",
       "      <td>-0.076576</td>\n",
       "      <td>-0.247047</td>\n",
       "      <td>1.000000</td>\n",
       "    </tr>\n",
       "  </tbody>\n",
       "</table>\n",
       "</div>"
      ],
      "text/plain": [
       "             fruit_label      mass     width    height  color_score\n",
       "fruit_label     1.000000  0.032738 -0.298090  0.508766    -0.310521\n",
       "mass            0.032738  1.000000  0.877687  0.609571    -0.079794\n",
       "width          -0.298090  0.877687  1.000000  0.396848    -0.076576\n",
       "height          0.508766  0.609571  0.396848  1.000000    -0.247047\n",
       "color_score    -0.310521 -0.079794 -0.076576 -0.247047     1.000000"
      ]
     },
     "execution_count": 4,
     "metadata": {},
     "output_type": "execute_result"
    }
   ],
   "source": [
    "df[[\"fruit_label\",\"mass\",\"width\",\"height\",\"color_score\"]].corr()"
   ]
  },
  {
   "cell_type": "code",
   "execution_count": 5,
   "id": "ef9bbef1-0930-4f30-8ca1-81880eefcb6d",
   "metadata": {},
   "outputs": [
    {
     "data": {
      "text/plain": [
       "(59, 3)"
      ]
     },
     "execution_count": 5,
     "metadata": {},
     "output_type": "execute_result"
    }
   ],
   "source": [
    "X=df[[\"width\",\"height\",\"color_score\"]].values\n",
    "X.shape"
   ]
  },
  {
   "cell_type": "code",
   "execution_count": 6,
   "id": "b1574d02-8b12-44c1-b435-7cc01cd49502",
   "metadata": {},
   "outputs": [
    {
     "data": {
      "text/plain": [
       "(59,)"
      ]
     },
     "execution_count": 6,
     "metadata": {},
     "output_type": "execute_result"
    }
   ],
   "source": [
    "y= df[\"fruit_label\"].values\n",
    "y.shape"
   ]
  },
  {
   "cell_type": "code",
   "execution_count": 7,
   "id": "7b4d307a-10cf-4447-8fae-c305f53caf41",
   "metadata": {},
   "outputs": [],
   "source": [
    "from sklearn.model_selection import train_test_split"
   ]
  },
  {
   "cell_type": "code",
   "execution_count": 8,
   "id": "c2aef533-6006-4e0b-b436-af42055f27bb",
   "metadata": {},
   "outputs": [
    {
     "name": "stdout",
     "output_type": "stream",
     "text": [
      "(47, 3) (12, 3) (47,) (12,)\n"
     ]
    }
   ],
   "source": [
    "X_train,X_test,y_train,y_test = train_test_split(X,\n",
    "                                                 y,\n",
    "                                                 test_size = 0.2,\n",
    "                                                 random_state = 200)\n",
    "print(X_train.shape,X_test.shape,y_train.shape,y_test.shape)"
   ]
  },
  {
   "cell_type": "code",
   "execution_count": 9,
   "id": "023eca88-1270-43e7-8792-eaeecd5e2ddf",
   "metadata": {},
   "outputs": [],
   "source": [
    "from sklearn.neighbors import KNeighborsClassifier"
   ]
  },
  {
   "cell_type": "code",
   "execution_count": 10,
   "id": "1b806df2-c3cd-467e-8747-3c27df6ba1c1",
   "metadata": {},
   "outputs": [
    {
     "data": {
      "text/plain": [
       "6.855654600401044"
      ]
     },
     "execution_count": 10,
     "metadata": {},
     "output_type": "execute_result"
    }
   ],
   "source": [
    "#as per practitioners rule best k =square root of no of observation\n",
    "47**0.5"
   ]
  },
  {
   "cell_type": "code",
   "execution_count": 11,
   "id": "94133be5-6cd8-47ee-952c-e13ad433f8e4",
   "metadata": {},
   "outputs": [
    {
     "data": {
      "text/plain": [
       "0.9166666666666666"
      ]
     },
     "execution_count": 11,
     "metadata": {},
     "output_type": "execute_result"
    }
   ],
   "source": [
    "model = KNeighborsClassifier(n_neighbors = 7, p = 2, metric = 'minkowski')\n",
    "model.fit(X_train,y_train).score(X_test,y_test)"
   ]
  },
  {
   "cell_type": "code",
   "execution_count": 12,
   "id": "7a103fde-138c-49f4-814c-804835de119f",
   "metadata": {},
   "outputs": [
    {
     "name": "stdout",
     "output_type": "stream",
     "text": [
      "(580, 211, 62) (580, 211, 62) (580, 211, 62)\n",
      "(580, 211, 62)\n"
     ]
    }
   ],
   "source": [
    "width = np.arange(X_test[:, 0].min() - 0.2, X_test[:, 0].max() + 0.2, 0.01)\n",
    "height = np.arange(X_test[:, 1].min() - 0.2, X_test[:, 1].max() + 0.2, 0.01)\n",
    "color_score = np.arange(X_test[:, 2].min() - 0.2, X_test[:, 2].max() + 0.2, 0.01)\n",
    "width, height, color_score = np.meshgrid(width, height, color_score)\n",
    "\n",
    "print(width.shape, height.shape, color_score.shape)\n",
    "\n",
    "# Flatten the grid to pass into the model for prediction\n",
    "formed_data = np.c_[width.ravel(), height.ravel(), color_score.ravel()]\n",
    "\n",
    "# Predict using the model and reshape the result back to the grid shape\n",
    "Z = model.predict(formed_data).reshape(width.shape)\n",
    "\n",
    "print(Z.shape) "
   ]
  },
  {
   "cell_type": "code",
   "execution_count": 13,
   "id": "f0d6651d-7811-4d5a-bf79-b22ac256c611",
   "metadata": {},
   "outputs": [
    {
     "name": "stderr",
     "output_type": "stream",
     "text": [
      "C:\\Users\\vaishnavi\\AppData\\Roaming\\Python\\Python310\\site-packages\\IPython\\core\\pylabtools.py:152: UserWarning: Creating legend with loc=\"best\" can be slow with large amounts of data.\n",
      "  fig.canvas.print_figure(bytes_io, **kw)\n"
     ]
    },
    {
     "data": {
      "image/png": "[encoded data removed]",
      "text/plain": [
       "<Figure size 640x480 with 1 Axes>"
      ]
     },
     "metadata": {},
     "output_type": "display_data"
    }
   ],
   "source": [
    "# Plotting\n",
    "fig = plt.figure()\n",
    "ax = fig.add_subplot(111, projection='3d')\n",
    "\n",
    "# Using scatter plot for the predictions\n",
    "ax.scatter(width.ravel(), height.ravel(), color_score.ravel(), c=Z.ravel(), alpha=0.3, cmap='viridis')\n",
    "\n",
    "# Scatter plot the test data points with correct indices and labels\n",
    "ax.scatter(X_test[y_test == 1, 0], X_test[y_test == 1, 1], X_test[y_test == 1, 2], c='r', label='apple')\n",
    "ax.scatter(X_test[y_test == 2, 0], X_test[y_test == 2, 1], X_test[y_test == 2, 2], c='g', label='mandarin')\n",
    "ax.scatter(X_test[y_test == 3, 0], X_test[y_test == 3, 1], X_test[y_test == 3, 2], c='b', label='orange')\n",
    "ax.scatter(X_test[y_test == 4, 0], X_test[y_test == 4, 1], X_test[y_test == 4, 2], c='y', label='lemon')\n",
    "\n",
    "ax.set_xlabel('Width')\n",
    "ax.set_ylabel('Height')\n",
    "ax.set_zlabel('Color Score')\n",
    "\n",
    "ax.legend(bbox_to_anchor=(1, 1))\n",
    "plt.show()"
   ]
  },
  {
   "cell_type": "code",
   "execution_count": null,
   "id": "85be2528-3e8e-4912-a212-7d8a8dc4e100",
   "metadata": {},
   "outputs": [],
   "source": []
  }
 ],
 "metadata": {
  "kernelspec": {
   "display_name": "Python 3 (ipykernel)",
   "language": "python",
   "name": "python3"
  },
  "language_info": {
   "codemirror_mode": {
    "name": "ipython",
    "version": 3
   },
   "file_extension": ".py",
   "mimetype": "text/x-python",
   "name": "python",
   "nbconvert_exporter": "python",
   "pygments_lexer": "ipython3",
   "version": "3.10.9"
  }
 },
 "nbformat": 4,
 "nbformat_minor": 5
}
