{
 "cells": [
  {
   "cell_type": "code",
   "execution_count": 3,
   "id": "a6135eb1-bf58-417c-9bb3-caed37dac70a",
   "metadata": {},
   "outputs": [],
   "source": [
    "import pandas as pd\n",
    "import numpy as np\n",
    "import matplotlib.pyplot as plt "
   ]
  },
  {
   "cell_type": "code",
   "execution_count": 4,
   "id": "40c9a096-b137-4f6a-88a6-47a4a80fcf1a",
   "metadata": {},
   "outputs": [
    {
     "name": "stdout",
     "output_type": "stream",
     "text": [
      "<class 'pandas.core.frame.DataFrame'>\n",
      "RangeIndex: 284 entries, 0 to 283\n",
      "Data columns (total 3 columns):\n",
      " #   Column     Non-Null Count  Dtype\n",
      "---  ------     --------------  -----\n",
      " 0   Age        284 non-null    int64\n",
      " 1   Salary     284 non-null    int64\n",
      " 2   Purchased  284 non-null    int64\n",
      "dtypes: int64(3)\n",
      "memory usage: 6.8 KB\n"
     ]
    }
   ],
   "source": [
    "df = pd.read_excel(\"C:/Users/vaishnavi/Desktop/DBDA/ML Practical/Day_2/Social_Network_ads.xlsx\")\n",
    "df.info()"
   ]
  },
  {
   "cell_type": "code",
   "execution_count": 5,
   "id": "61b873dc-3971-447e-9172-f7ba0fe9f4ac",
   "metadata": {},
   "outputs": [],
   "source": [
    "#To check correlation between x as Nominal and y as numeric\n",
    "#use the  ANOVA test\n",
    "from scipy.stats import f_oneway\n",
    "#performing the ANOVA test (analysis of variance)\n",
    "#Null hypothesis (HO) = there is no correlation between Nominal and continuous variable\n",
    "#We accept the Assumption(HO) only when P-value > 0.05 else reject"
   ]
  },
  {
   "cell_type": "code",
   "execution_count": 6,
   "id": "63f156c6-c984-4ec7-b4ea-8e26af1fda91",
   "metadata": {},
   "outputs": [
    {
     "data": {
      "text/plain": [
       "(284,)"
      ]
     },
     "execution_count": 6,
     "metadata": {},
     "output_type": "execute_result"
    }
   ],
   "source": [
    "X = df[['Age','Salary']].values\n",
    "X.shape\n",
    "\n",
    "y = df['Purchased'].values\n",
    "y.shape"
   ]
  },
  {
   "cell_type": "code",
   "execution_count": 7,
   "id": "e6d37a02-a5c4-46cc-95d5-a930779e09ab",
   "metadata": {},
   "outputs": [],
   "source": [
    "from sklearn.preprocessing import StandardScaler\n",
    "#std score of sample x is calculates as:\n",
    "# z= (x-u)/s\n",
    "#u is mean, s is standard deviation"
   ]
  },
  {
   "cell_type": "code",
   "execution_count": 8,
   "id": "1300c0fd-3f27-4f6a-83b5-4b9c9cc910fb",
   "metadata": {},
   "outputs": [
    {
     "data": {
      "text/plain": [
       "array([[-2.13648148, -1.50856282],\n",
       "       [-0.56456246, -1.48090064],\n",
       "       [-1.44876691, -0.8446705 ],\n",
       "       [ 0.6143768 , -1.34258974],\n",
       "       [-1.35052197, -0.45739999]])"
      ]
     },
     "execution_count": 8,
     "metadata": {},
     "output_type": "execute_result"
    }
   ],
   "source": [
    "sc = StandardScaler()\n",
    "X_sc = sc.fit_transform(X)\n",
    "X_sc[:5,:]"
   ]
  },
  {
   "cell_type": "code",
   "execution_count": 9,
   "id": "c1a0bf62-817e-4ffd-8333-c9e40e80accf",
   "metadata": {},
   "outputs": [],
   "source": [
    "from sklearn.model_selection import train_test_split"
   ]
  },
  {
   "cell_type": "code",
   "execution_count": 10,
   "id": "5dd00dbc-89a9-4c1f-af36-382e3e9164b1",
   "metadata": {},
   "outputs": [
    {
     "name": "stdout",
     "output_type": "stream",
     "text": [
      "(227, 2) (57, 2) (227,) (57,)\n"
     ]
    }
   ],
   "source": [
    "\n",
    "X_train,X_test,y_train,y_test = train_test_split(X_sc,\n",
    "                                                 y,\n",
    "                                                 test_size = 0.2,\n",
    "                                                 random_state = 100)\n",
    "print(X_train.shape,X_test.shape,y_train.shape,y_test.shape)"
   ]
  },
  {
   "cell_type": "code",
   "execution_count": 15,
   "id": "8a073f95-8f8b-46c7-aca9-59377264c3cd",
   "metadata": {},
   "outputs": [],
   "source": [
    "from sklearn.naive_bayes import GaussianNB\n",
    "from sklearn.discriminant_analysis import QuadraticDiscriminantAnalysis"
   ]
  },
  {
   "cell_type": "code",
   "execution_count": 13,
   "id": "fb5c159d-8837-4a6f-8580-c91e4f41718c",
   "metadata": {},
   "outputs": [
    {
     "data": {
      "text/plain": [
       "0.8771929824561403"
      ]
     },
     "execution_count": 13,
     "metadata": {},
     "output_type": "execute_result"
    }
   ],
   "source": [
    "model =GaussianNB()\n",
    "model.fit(X_train,y_train).score(X_test,y_test)"
   ]
  },
  {
   "cell_type": "code",
   "execution_count": 16,
   "id": "4a97e051-c372-4c7d-9e93-967e26a113f6",
   "metadata": {},
   "outputs": [
    {
     "data": {
      "text/plain": [
       "0.8947368421052632"
      ]
     },
     "execution_count": 16,
     "metadata": {},
     "output_type": "execute_result"
    }
   ],
   "source": [
    "model = QuadraticDiscriminantAnalysis()\n",
    "model.fit(X_train,y_train).score(X_test,y_test)"
   ]
  },
  {
   "cell_type": "code",
   "execution_count": 17,
   "id": "98ad84e4-9a18-4424-a552-070968ff9a4e",
   "metadata": {},
   "outputs": [
    {
     "name": "stdout",
     "output_type": "stream",
     "text": [
      "(408, 424) (408, 424)\n"
     ]
    }
   ],
   "source": [
    "age = np.arange(X_test[:,0].min()-0.2,X_test[:,0].max()+0.2,0.01)\n",
    "sal = np.arange(X_test[:,1].min()-0.2,X_test[:,1].max()+0.2,0.01)\n",
    "Age , Sal  = np.meshgrid(age, sal)\n",
    "print(Age.shape, Sal.shape)"
   ]
  },
  {
   "cell_type": "code",
   "execution_count": 18,
   "id": "95f4176d-cf4e-4b75-a89c-e1967aeccf89",
   "metadata": {},
   "outputs": [
    {
     "data": {
      "image/png": "[encoded data removed]",
      "text/plain": [
       "<Figure size 640x480 with 1 Axes>"
      ]
     },
     "metadata": {},
     "output_type": "display_data"
    }
   ],
   "source": [
    "formed_data = np.c_[Age.ravel(),Sal.ravel()]\n",
    "Z1 = model.predict(formed_data).reshape(Age.shape) \n",
    "Z1.shape\n",
    "plt.contourf(Age, Sal, Z1)\n",
    "plt.scatter(X_test[y_test==0,0],X_test[y_test==0,1],c = 'r', label =\"Not Purchased\")  \n",
    "plt.scatter(X_test[y_test==1,0],X_test[y_test==1,1],c = 'Green', label =\"Purchased\")\n",
    "plt.legend(bbox_to_anchor=(1,1))\n",
    "plt.show()"
   ]
  },
  {
   "cell_type": "code",
   "execution_count": 19,
   "id": "b701dd9c-bb19-4431-b9e3-cd9975174060",
   "metadata": {},
   "outputs": [],
   "source": [
    "from sklearn.model_selection import cross_val_score"
   ]
  },
  {
   "cell_type": "code",
   "execution_count": 23,
   "id": "31fcd50a-7fca-4587-b4e8-9bc04199512e",
   "metadata": {},
   "outputs": [
    {
     "name": "stdout",
     "output_type": "stream",
     "text": [
      "Average Accuracy = 0.8896618357487924\n"
     ]
    }
   ],
   "source": [
    "accuracies= cross_val_score(model,X_train,y_train,cv=5)\n",
    "print(\"Average Accuracy =\",np.mean(accuracies))"
   ]
  },
  {
   "cell_type": "code",
   "execution_count": 24,
   "id": "0bf0eb55-d421-4888-b2e0-235dbec52660",
   "metadata": {},
   "outputs": [
    {
     "name": "stdout",
     "output_type": "stream",
     "text": [
      "Average Accuracy = 0.887593984962406\n"
     ]
    }
   ],
   "source": [
    "accuracies= cross_val_score(model,X,y,cv=5)\n",
    "print(\"Average Accuracy =\",np.mean(accuracies))"
   ]
  },
  {
   "cell_type": "code",
   "execution_count": null,
   "id": "348db80c-ea0a-492b-9618-c71393614b04",
   "metadata": {},
   "outputs": [],
   "source": []
  }
 ],
 "metadata": {
  "kernelspec": {
   "display_name": "Python 3 (ipykernel)",
   "language": "python",
   "name": "python3"
  },
  "language_info": {
   "codemirror_mode": {
    "name": "ipython",
    "version": 3
   },
   "file_extension": ".py",
   "mimetype": "text/x-python",
   "name": "python",
   "nbconvert_exporter": "python",
   "pygments_lexer": "ipython3",
   "version": "3.10.9"
  }
 },
 "nbformat": 4,
 "nbformat_minor": 5
}
