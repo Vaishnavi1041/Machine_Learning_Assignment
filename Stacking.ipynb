{
 "cells": [
  {
   "cell_type": "code",
   "execution_count": 1,
   "id": "d19d4c1f-8717-4a71-b0bf-48cf4e982a8d",
   "metadata": {},
   "outputs": [],
   "source": [
    "import pandas as pd\n",
    "import numpy as np\n",
    "import matplotlib.pyplot as plt "
   ]
  },
  {
   "cell_type": "code",
   "execution_count": 2,
   "id": "63d2c9e9-59fb-4604-abe2-9d21455ccee3",
   "metadata": {},
   "outputs": [
    {
     "name": "stdout",
     "output_type": "stream",
     "text": [
      "<class 'pandas.core.frame.DataFrame'>\n",
      "RangeIndex: 284 entries, 0 to 283\n",
      "Data columns (total 3 columns):\n",
      " #   Column     Non-Null Count  Dtype\n",
      "---  ------     --------------  -----\n",
      " 0   Age        284 non-null    int64\n",
      " 1   Salary     284 non-null    int64\n",
      " 2   Purchased  284 non-null    int64\n",
      "dtypes: int64(3)\n",
      "memory usage: 6.8 KB\n"
     ]
    }
   ],
   "source": [
    "df = pd.read_excel(\"C:/Users/vaishnavi/Desktop/DBDA/ML Practical/Day_2/Social_Network_ads.xlsx\")\n",
    "df.info()"
   ]
  },
  {
   "cell_type": "code",
   "execution_count": 3,
   "id": "6099101d-ac33-4fe6-a9d3-396a6a4bbd99",
   "metadata": {},
   "outputs": [],
   "source": [
    "#To check correlation between x as Nominal and y as numeric\n",
    "#use the  ANOVA test\n",
    "from scipy.stats import f_oneway\n",
    "#performing the ANOVA test (analysis of variance)\n",
    "#Null hypothesis (HO) = there is no correlation between Nominal and continuous variable\n",
    "#We accept the Assumption(HO) only when P-value > 0.05 else reject"
   ]
  },
  {
   "cell_type": "code",
   "execution_count": 4,
   "id": "ff0d8885-d313-4c53-bdba-b9ef33288c42",
   "metadata": {},
   "outputs": [
    {
     "data": {
      "text/plain": [
       "(284,)"
      ]
     },
     "execution_count": 4,
     "metadata": {},
     "output_type": "execute_result"
    }
   ],
   "source": [
    "X = df[['Age','Salary']].values\n",
    "X.shape\n",
    "\n",
    "y = df['Purchased'].values\n",
    "y.shape"
   ]
  },
  {
   "cell_type": "code",
   "execution_count": 5,
   "id": "a04e06d5-b016-450a-9efe-ef41dbc6d092",
   "metadata": {},
   "outputs": [],
   "source": [
    "from sklearn.preprocessing import StandardScaler\n",
    "#std score of sample x is calculates as:\n",
    "# z= (x-u)/s\n",
    "#u is mean, s is standard deviation"
   ]
  },
  {
   "cell_type": "code",
   "execution_count": 6,
   "id": "4af43621-0637-4e57-8db5-6ec5f6888e4f",
   "metadata": {},
   "outputs": [
    {
     "data": {
      "text/plain": [
       "array([[-2.13648148, -1.50856282],\n",
       "       [-0.56456246, -1.48090064],\n",
       "       [-1.44876691, -0.8446705 ],\n",
       "       [ 0.6143768 , -1.34258974],\n",
       "       [-1.35052197, -0.45739999]])"
      ]
     },
     "execution_count": 6,
     "metadata": {},
     "output_type": "execute_result"
    }
   ],
   "source": [
    "sc = StandardScaler()\n",
    "X_sc = sc.fit_transform(X)\n",
    "X_sc[:5,:]"
   ]
  },
  {
   "cell_type": "code",
   "execution_count": 7,
   "id": "d66a62c0-8b9c-4ea7-8b45-b28565d0d782",
   "metadata": {},
   "outputs": [],
   "source": [
    "from sklearn.model_selection import train_test_split"
   ]
  },
  {
   "cell_type": "code",
   "execution_count": 8,
   "id": "a338fef2-2035-4a9f-9750-e711bffe9550",
   "metadata": {},
   "outputs": [
    {
     "name": "stdout",
     "output_type": "stream",
     "text": [
      "(227, 2) (57, 2) (227,) (57,)\n"
     ]
    }
   ],
   "source": [
    "\n",
    "X_train,X_test,y_train,y_test = train_test_split(X_sc,\n",
    "                                                 y,\n",
    "                                                 test_size = 0.2,\n",
    "                                                 random_state = 100)\n",
    "print(X_train.shape,X_test.shape,y_train.shape,y_test.shape)"
   ]
  },
  {
   "cell_type": "code",
   "execution_count": 11,
   "id": "5c5be194-a8a6-4fd9-b103-089fa069ef1f",
   "metadata": {},
   "outputs": [],
   "source": [
    "from sklearn.svm import SVC\n",
    "from sklearn.tree import DecisionTreeClassifier\n",
    "from sklearn.ensemble import AdaBoostClassifier, \\\n",
    "                            RandomForestClassifier, StackingClassifier\n",
    "from sklearn.naive_bayes import GaussianNB\n",
    "from sklearn.neighbors import KNeighborsClassifier"
   ]
  },
  {
   "cell_type": "code",
   "execution_count": 12,
   "id": "cc88ffac-d86a-4705-b85a-04953e092e5c",
   "metadata": {},
   "outputs": [],
   "source": [
    "estimator_list2 = [('DT',DecisionTreeClassifier(criterion='entropy')),\n",
    "             ('NB', GaussianNB()),\n",
    "             ('svc', SVC()),\n",
    "             ('KNN', KNeighborsClassifier(n_neighbors=11))]"
   ]
  },
  {
   "cell_type": "code",
   "execution_count": 13,
   "id": "083a828f-a3da-47d6-9416-9b92f976160b",
   "metadata": {},
   "outputs": [
    {
     "data": {
      "text/plain": [
       "0.9122807017543859"
      ]
     },
     "execution_count": 13,
     "metadata": {},
     "output_type": "execute_result"
    }
   ],
   "source": [
    "model2 = StackingClassifier(estimators=estimator_list2)\n",
    "model2.fit(X_train, y_train).score(X_test, y_test)"
   ]
  },
  {
   "cell_type": "code",
   "execution_count": null,
   "id": "3c2aeacb-50ac-4875-9618-76f79b45fcb9",
   "metadata": {},
   "outputs": [],
   "source": []
  }
 ],
 "metadata": {
  "kernelspec": {
   "display_name": "Python 3 (ipykernel)",
   "language": "python",
   "name": "python3"
  },
  "language_info": {
   "codemirror_mode": {
    "name": "ipython",
    "version": 3
   },
   "file_extension": ".py",
   "mimetype": "text/x-python",
   "name": "python",
   "nbconvert_exporter": "python",
   "pygments_lexer": "ipython3",
   "version": "3.10.9"
  }
 },
 "nbformat": 4,
 "nbformat_minor": 5
}
