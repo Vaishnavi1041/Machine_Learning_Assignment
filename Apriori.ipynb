{
 "cells": [
  {
   "cell_type": "code",
   "execution_count": 1,
   "id": "34207dc7-4162-44f6-aa50-8b713a1cbe6c",
   "metadata": {},
   "outputs": [
    {
     "name": "stdout",
     "output_type": "stream",
     "text": [
      "Defaulting to user installation because normal site-packages is not writeable\n",
      "Collecting mlxtend\n",
      "  Downloading mlxtend-0.23.1-py3-none-any.whl.metadata (7.3 kB)\n",
      "Requirement already satisfied: scipy>=1.2.1 in c:\\users\\vaishnavi\\appdata\\roaming\\python\\python310\\site-packages (from mlxtend) (1.13.1)\n",
      "Requirement already satisfied: numpy>=1.16.2 in c:\\users\\vaishnavi\\appdata\\roaming\\python\\python310\\site-packages (from mlxtend) (1.26.4)\n",
      "Requirement already satisfied: pandas>=0.24.2 in c:\\users\\vaishnavi\\appdata\\roaming\\python\\python310\\site-packages (from mlxtend) (2.2.2)\n",
      "Requirement already satisfied: scikit-learn>=1.0.2 in c:\\users\\vaishnavi\\appdata\\roaming\\python\\python310\\site-packages (from mlxtend) (1.5.0)\n",
      "Requirement already satisfied: matplotlib>=3.0.0 in c:\\users\\vaishnavi\\appdata\\roaming\\python\\python310\\site-packages (from mlxtend) (3.9.0)\n",
      "Requirement already satisfied: joblib>=0.13.2 in c:\\users\\vaishnavi\\appdata\\roaming\\python\\python310\\site-packages (from mlxtend) (1.4.2)\n",
      "Requirement already satisfied: contourpy>=1.0.1 in c:\\users\\vaishnavi\\appdata\\roaming\\python\\python310\\site-packages (from matplotlib>=3.0.0->mlxtend) (1.2.1)\n",
      "Requirement already satisfied: cycler>=0.10 in c:\\users\\vaishnavi\\appdata\\roaming\\python\\python310\\site-packages (from matplotlib>=3.0.0->mlxtend) (0.12.1)\n",
      "Requirement already satisfied: fonttools>=4.22.0 in c:\\users\\vaishnavi\\appdata\\roaming\\python\\python310\\site-packages (from matplotlib>=3.0.0->mlxtend) (4.52.1)\n",
      "Requirement already satisfied: kiwisolver>=1.3.1 in c:\\users\\vaishnavi\\appdata\\roaming\\python\\python310\\site-packages (from matplotlib>=3.0.0->mlxtend) (1.4.5)\n",
      "Requirement already satisfied: packaging>=20.0 in c:\\users\\vaishnavi\\appdata\\roaming\\python\\python310\\site-packages (from matplotlib>=3.0.0->mlxtend) (24.0)\n",
      "Requirement already satisfied: pillow>=8 in c:\\users\\vaishnavi\\appdata\\roaming\\python\\python310\\site-packages (from matplotlib>=3.0.0->mlxtend) (10.3.0)\n",
      "Requirement already satisfied: pyparsing>=2.3.1 in c:\\users\\vaishnavi\\appdata\\roaming\\python\\python310\\site-packages (from matplotlib>=3.0.0->mlxtend) (3.1.2)\n",
      "Requirement already satisfied: python-dateutil>=2.7 in c:\\users\\vaishnavi\\appdata\\roaming\\python\\python310\\site-packages (from matplotlib>=3.0.0->mlxtend) (2.9.0.post0)\n",
      "Requirement already satisfied: pytz>=2020.1 in c:\\users\\vaishnavi\\appdata\\roaming\\python\\python310\\site-packages (from pandas>=0.24.2->mlxtend) (2024.1)\n",
      "Requirement already satisfied: tzdata>=2022.7 in c:\\users\\vaishnavi\\appdata\\roaming\\python\\python310\\site-packages (from pandas>=0.24.2->mlxtend) (2024.1)\n",
      "Requirement already satisfied: threadpoolctl>=3.1.0 in c:\\users\\vaishnavi\\appdata\\roaming\\python\\python310\\site-packages (from scikit-learn>=1.0.2->mlxtend) (3.5.0)\n",
      "Requirement already satisfied: six>=1.5 in c:\\users\\vaishnavi\\appdata\\roaming\\python\\python310\\site-packages (from python-dateutil>=2.7->matplotlib>=3.0.0->mlxtend) (1.16.0)\n",
      "Downloading mlxtend-0.23.1-py3-none-any.whl (1.4 MB)\n",
      "   ---------------------------------------- 0.0/1.4 MB ? eta -:--:--\n",
      "   -- ------------------------------------- 0.1/1.4 MB 1.7 MB/s eta 0:00:01\n",
      "   ------ --------------------------------- 0.2/1.4 MB 2.8 MB/s eta 0:00:01\n",
      "   ----------------- ---------------------- 0.6/1.4 MB 4.5 MB/s eta 0:00:01\n",
      "   ----------------------------------- ---- 1.3/1.4 MB 6.9 MB/s eta 0:00:01\n",
      "   ---------------------------------------- 1.4/1.4 MB 7.1 MB/s eta 0:00:00\n",
      "Installing collected packages: mlxtend\n",
      "Successfully installed mlxtend-0.23.1\n"
     ]
    }
   ],
   "source": [
    "!pip install mlxtend "
   ]
  },
  {
   "cell_type": "code",
   "execution_count": 2,
   "id": "a2a58cbc-c098-4ef3-a9ea-e2755fa2cb08",
   "metadata": {},
   "outputs": [],
   "source": [
    "import pandas as pd \n",
    "import numpy as np\n",
    "import matplotlib.pyplot as plt"
   ]
  },
  {
   "cell_type": "code",
   "execution_count": 3,
   "id": "6128f62f-4297-4edc-9d88-5dcf279c2814",
   "metadata": {},
   "outputs": [],
   "source": [
    "dataset=[['Milk', 'Onion', 'Nutmeg', 'Kidney Beans', 'Eggs', 'Yogurt'],\n",
    "        ['Onion', 'Nutmeg', 'Kidney Beans', 'Eggs', 'Yogurt'],\n",
    "        ['Milk', 'Apple', 'Kidney Beans', 'Eggs'],\n",
    "        ['Milk', 'Unicorn', 'Corn', 'Kidney Beans', 'Yogurt'],\n",
    "        ['Corn', 'Onion', 'Kidney Beans', 'Ice cream', 'Eggs']]\n",
    "total_item = []\n"
   ]
  },
  {
   "cell_type": "code",
   "execution_count": 4,
   "id": "7e9693b0-6805-4a7a-a58c-36af23937240",
   "metadata": {},
   "outputs": [],
   "source": [
    "from mlxtend.preprocessing import TransactionEncoder"
   ]
  },
  {
   "cell_type": "code",
   "execution_count": 6,
   "id": "4a1c6fdc-72a3-40b3-a0c3-84776dbcdf4a",
   "metadata": {},
   "outputs": [
    {
     "data": {
      "text/plain": [
       "(5, 10)"
      ]
     },
     "execution_count": 6,
     "metadata": {},
     "output_type": "execute_result"
    }
   ],
   "source": [
    "te = TransactionEncoder()\n",
    "te_array =te.fit(dataset).transform(dataset)\n",
    "te_array.shape"
   ]
  },
  {
   "cell_type": "code",
   "execution_count": 7,
   "id": "12255fde-3e7a-43b6-bfd9-076ff439be58",
   "metadata": {},
   "outputs": [
    {
     "data": {
      "text/plain": [
       "['Apple',\n",
       " 'Corn',\n",
       " 'Eggs',\n",
       " 'Ice cream',\n",
       " 'Kidney Beans',\n",
       " 'Milk',\n",
       " 'Nutmeg',\n",
       " 'Onion',\n",
       " 'Unicorn',\n",
       " 'Yogurt']"
      ]
     },
     "execution_count": 7,
     "metadata": {},
     "output_type": "execute_result"
    }
   ],
   "source": [
    "te.columns_"
   ]
  },
  {
   "cell_type": "code",
   "execution_count": 8,
   "id": "141d0fa4-e992-4dcb-a2a6-05c92f6acd51",
   "metadata": {},
   "outputs": [
    {
     "data": {
      "text/html": [
       "<div>\n",
       "<style scoped>\n",
       "    .dataframe tbody tr th:only-of-type {\n",
       "        vertical-align: middle;\n",
       "    }\n",
       "\n",
       "    .dataframe tbody tr th {\n",
       "        vertical-align: top;\n",
       "    }\n",
       "\n",
       "    .dataframe thead th {\n",
       "        text-align: right;\n",
       "    }\n",
       "</style>\n",
       "<table border=\"1\" class=\"dataframe\">\n",
       "  <thead>\n",
       "    <tr style=\"text-align: right;\">\n",
       "      <th></th>\n",
       "      <th>Apple</th>\n",
       "      <th>Corn</th>\n",
       "      <th>Eggs</th>\n",
       "      <th>Ice cream</th>\n",
       "      <th>Kidney Beans</th>\n",
       "      <th>Milk</th>\n",
       "      <th>Nutmeg</th>\n",
       "      <th>Onion</th>\n",
       "      <th>Unicorn</th>\n",
       "      <th>Yogurt</th>\n",
       "    </tr>\n",
       "  </thead>\n",
       "  <tbody>\n",
       "    <tr>\n",
       "      <th>0</th>\n",
       "      <td>False</td>\n",
       "      <td>False</td>\n",
       "      <td>True</td>\n",
       "      <td>False</td>\n",
       "      <td>True</td>\n",
       "      <td>True</td>\n",
       "      <td>True</td>\n",
       "      <td>True</td>\n",
       "      <td>False</td>\n",
       "      <td>True</td>\n",
       "    </tr>\n",
       "    <tr>\n",
       "      <th>1</th>\n",
       "      <td>False</td>\n",
       "      <td>False</td>\n",
       "      <td>True</td>\n",
       "      <td>False</td>\n",
       "      <td>True</td>\n",
       "      <td>False</td>\n",
       "      <td>True</td>\n",
       "      <td>True</td>\n",
       "      <td>False</td>\n",
       "      <td>True</td>\n",
       "    </tr>\n",
       "    <tr>\n",
       "      <th>2</th>\n",
       "      <td>True</td>\n",
       "      <td>False</td>\n",
       "      <td>True</td>\n",
       "      <td>False</td>\n",
       "      <td>True</td>\n",
       "      <td>True</td>\n",
       "      <td>False</td>\n",
       "      <td>False</td>\n",
       "      <td>False</td>\n",
       "      <td>False</td>\n",
       "    </tr>\n",
       "    <tr>\n",
       "      <th>3</th>\n",
       "      <td>False</td>\n",
       "      <td>True</td>\n",
       "      <td>False</td>\n",
       "      <td>False</td>\n",
       "      <td>True</td>\n",
       "      <td>True</td>\n",
       "      <td>False</td>\n",
       "      <td>False</td>\n",
       "      <td>True</td>\n",
       "      <td>True</td>\n",
       "    </tr>\n",
       "    <tr>\n",
       "      <th>4</th>\n",
       "      <td>False</td>\n",
       "      <td>True</td>\n",
       "      <td>True</td>\n",
       "      <td>True</td>\n",
       "      <td>True</td>\n",
       "      <td>False</td>\n",
       "      <td>False</td>\n",
       "      <td>True</td>\n",
       "      <td>False</td>\n",
       "      <td>False</td>\n",
       "    </tr>\n",
       "  </tbody>\n",
       "</table>\n",
       "</div>"
      ],
      "text/plain": [
       "   Apple   Corn   Eggs  Ice cream  Kidney Beans   Milk  Nutmeg  Onion  \\\n",
       "0  False  False   True      False          True   True    True   True   \n",
       "1  False  False   True      False          True  False    True   True   \n",
       "2   True  False   True      False          True   True   False  False   \n",
       "3  False   True  False      False          True   True   False  False   \n",
       "4  False   True   True       True          True  False   False   True   \n",
       "\n",
       "   Unicorn  Yogurt  \n",
       "0    False    True  \n",
       "1    False    True  \n",
       "2    False   False  \n",
       "3     True    True  \n",
       "4    False   False  "
      ]
     },
     "execution_count": 8,
     "metadata": {},
     "output_type": "execute_result"
    }
   ],
   "source": [
    "df = pd.DataFrame(te_array,columns=te.columns_)\n",
    "df"
   ]
  },
  {
   "cell_type": "code",
   "execution_count": 9,
   "id": "0ee48580-faec-4f26-a768-dd8c70619547",
   "metadata": {},
   "outputs": [],
   "source": [
    "from mlxtend.frequent_patterns import apriori,association_rules"
   ]
  },
  {
   "cell_type": "code",
   "execution_count": 10,
   "id": "542de3c0-5a76-434b-a205-bf6ef3a35ceb",
   "metadata": {},
   "outputs": [
    {
     "data": {
      "text/html": [
       "<div>\n",
       "<style scoped>\n",
       "    .dataframe tbody tr th:only-of-type {\n",
       "        vertical-align: middle;\n",
       "    }\n",
       "\n",
       "    .dataframe tbody tr th {\n",
       "        vertical-align: top;\n",
       "    }\n",
       "\n",
       "    .dataframe thead th {\n",
       "        text-align: right;\n",
       "    }\n",
       "</style>\n",
       "<table border=\"1\" class=\"dataframe\">\n",
       "  <thead>\n",
       "    <tr style=\"text-align: right;\">\n",
       "      <th></th>\n",
       "      <th>support</th>\n",
       "      <th>itemsets</th>\n",
       "    </tr>\n",
       "  </thead>\n",
       "  <tbody>\n",
       "    <tr>\n",
       "      <th>0</th>\n",
       "      <td>0.8</td>\n",
       "      <td>(Eggs)</td>\n",
       "    </tr>\n",
       "    <tr>\n",
       "      <th>1</th>\n",
       "      <td>1.0</td>\n",
       "      <td>(Kidney Beans)</td>\n",
       "    </tr>\n",
       "    <tr>\n",
       "      <th>2</th>\n",
       "      <td>0.6</td>\n",
       "      <td>(Milk)</td>\n",
       "    </tr>\n",
       "    <tr>\n",
       "      <th>3</th>\n",
       "      <td>0.6</td>\n",
       "      <td>(Onion)</td>\n",
       "    </tr>\n",
       "    <tr>\n",
       "      <th>4</th>\n",
       "      <td>0.6</td>\n",
       "      <td>(Yogurt)</td>\n",
       "    </tr>\n",
       "    <tr>\n",
       "      <th>5</th>\n",
       "      <td>0.8</td>\n",
       "      <td>(Eggs, Kidney Beans)</td>\n",
       "    </tr>\n",
       "    <tr>\n",
       "      <th>6</th>\n",
       "      <td>0.6</td>\n",
       "      <td>(Eggs, Onion)</td>\n",
       "    </tr>\n",
       "    <tr>\n",
       "      <th>7</th>\n",
       "      <td>0.6</td>\n",
       "      <td>(Milk, Kidney Beans)</td>\n",
       "    </tr>\n",
       "    <tr>\n",
       "      <th>8</th>\n",
       "      <td>0.6</td>\n",
       "      <td>(Onion, Kidney Beans)</td>\n",
       "    </tr>\n",
       "    <tr>\n",
       "      <th>9</th>\n",
       "      <td>0.6</td>\n",
       "      <td>(Yogurt, Kidney Beans)</td>\n",
       "    </tr>\n",
       "    <tr>\n",
       "      <th>10</th>\n",
       "      <td>0.6</td>\n",
       "      <td>(Eggs, Onion, Kidney Beans)</td>\n",
       "    </tr>\n",
       "  </tbody>\n",
       "</table>\n",
       "</div>"
      ],
      "text/plain": [
       "    support                     itemsets\n",
       "0       0.8                       (Eggs)\n",
       "1       1.0               (Kidney Beans)\n",
       "2       0.6                       (Milk)\n",
       "3       0.6                      (Onion)\n",
       "4       0.6                     (Yogurt)\n",
       "5       0.8         (Eggs, Kidney Beans)\n",
       "6       0.6                (Eggs, Onion)\n",
       "7       0.6         (Milk, Kidney Beans)\n",
       "8       0.6        (Onion, Kidney Beans)\n",
       "9       0.6       (Yogurt, Kidney Beans)\n",
       "10      0.6  (Eggs, Onion, Kidney Beans)"
      ]
     },
     "execution_count": 10,
     "metadata": {},
     "output_type": "execute_result"
    }
   ],
   "source": [
    "freq_itemsets = apriori(df,min_support=0.5,use_colnames=True)\n",
    "freq_itemsets"
   ]
  },
  {
   "cell_type": "code",
   "execution_count": 12,
   "id": "517f1fc0-f0b7-4f11-947b-d3b4a2a91c27",
   "metadata": {},
   "outputs": [
    {
     "name": "stdout",
     "output_type": "stream",
     "text": [
      "             antecedents           consequents  lift  support  confidence\n",
      "0                 (Eggs)        (Kidney Beans)  1.00      0.8         1.0\n",
      "1         (Kidney Beans)                (Eggs)  1.00      0.8         0.8\n",
      "2                (Onion)                (Eggs)  1.25      0.6         1.0\n",
      "3                 (Milk)        (Kidney Beans)  1.00      0.6         1.0\n",
      "4                (Onion)        (Kidney Beans)  1.00      0.6         1.0\n",
      "5               (Yogurt)        (Kidney Beans)  1.00      0.6         1.0\n",
      "6          (Eggs, Onion)        (Kidney Beans)  1.00      0.6         1.0\n",
      "7  (Onion, Kidney Beans)                (Eggs)  1.25      0.6         1.0\n",
      "8                (Onion)  (Eggs, Kidney Beans)  1.25      0.6         1.0\n"
     ]
    }
   ],
   "source": [
    "rule = association_rule  s(freq_itemsets)\n",
    "cols =[\"antecedents\",\"consequents\",\"lift\",\"support\",\"confidence\"]\n",
    "#confidence is of the consequents\n",
    "print(rule[cols])\n",
    "#lift - imp of rule, higher lift ,higher imp rule"
   ]
  },
  {
   "cell_type": "code",
   "execution_count": 15,
   "id": "6cfdc674-c427-4254-939b-749af9c00dd4",
   "metadata": {},
   "outputs": [],
   "source": [
    "freq_itemsets = apriori(df,min_support=0.4,use_colnames=True)\n",
    "freq_itemsets\n",
    "rule = association_rules(freq_itemsets)\n",
    "cols =[\"antecedents\",\"consequents\",\"lift\",\"support\",\"confidence\"]"
   ]
  },
  {
   "cell_type": "code",
   "execution_count": null,
   "id": "6787e233-c3a1-4416-81bd-abb7cfcdbd55",
   "metadata": {},
   "outputs": [],
   "source": []
  },
  {
   "cell_type": "code",
   "execution_count": null,
   "id": "1f11f6b7-252a-45e5-a262-b75f890e7fac",
   "metadata": {},
   "outputs": [],
   "source": []
  }
 ],
 "metadata": {
  "kernelspec": {
   "display_name": "Python 3 (ipykernel)",
   "language": "python",
   "name": "python3"
  },
  "language_info": {
   "codemirror_mode": {
    "name": "ipython",
    "version": 3
   },
   "file_extension": ".py",
   "mimetype": "text/x-python",
   "name": "python",
   "nbconvert_exporter": "python",
   "pygments_lexer": "ipython3",
   "version": "3.10.9"
  }
 },
 "nbformat": 4,
 "nbformat_minor": 5
}
